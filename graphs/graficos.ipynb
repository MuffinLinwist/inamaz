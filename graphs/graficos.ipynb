{
 "cells": [
  {
   "cell_type": "markdown",
   "id": "3e7c6d59",
   "metadata": {},
   "source": [
    "# Argumento S"
   ]
  },
  {
   "cell_type": "markdown",
   "id": "99fcafd0",
   "metadata": {},
   "source": [
    "## Patrones estructurales"
   ]
  },
  {
   "cell_type": "code",
   "execution_count": 1,
   "id": "1700d82a",
   "metadata": {},
   "outputs": [
    {
     "data": {
      "image/png": "[encoded data removed]",
      "text/plain": [
       "<Figure size 432x288 with 1 Axes>"
      ]
     },
     "metadata": {
      "needs_background": "light"
     },
     "output_type": "display_data"
    },
    {
     "data": {
      "text/plain": [
       "<Figure size 432x288 with 0 Axes>"
      ]
     },
     "metadata": {},
     "output_type": "display_data"
    }
   ],
   "source": [
    "import matplotlib.pyplot as plt\n",
    "import numpy as np\n",
    "w=0.2\n",
    "x = [\"Prefijo\", \"Sufijo\", \"Afijo\", \"Proclítico\", \"Enclítico\", \"Clítico\", \"No marcado\"]\n",
    "S = [0, 4, 1, 3, 0, 1, 1]\n",
    "A = [1, 4, 0, 4, 0, 0, 1]\n",
    "P = [0, 3, 0, 1, 2, 0, 3]\n",
    "\n",
    "bar1 = np.arange(len(x))\n",
    "bar2 = [i+w for i in bar1]\n",
    "bar3 = [i+w for i in bar2]\n",
    "\n",
    "plt.bar(bar1, S, w, color = 'darkslategray', label='S')\n",
    "plt.bar(bar2, A, w, color = 'cadetblue', label='A')\n",
    "plt.bar(bar3, P, w, color = 'yellowgreen', label='P')\n",
    "\n",
    "\n",
    "plt.ylabel(\"Número de lenguas\")\n",
    "plt.title(\"Patrones estructurales de los índices\")\n",
    "plt.xticks(bar1+w, x)\n",
    "plt.legend()\n",
    "\n",
    "\n",
    "fig1 = plt.gcf()\n",
    "plt.show()\n",
    "plt.draw()\n",
    "fig1.savefig('estructura.png', dpi=100)"
   ]
  },
  {
   "cell_type": "code",
   "execution_count": null,
   "id": "9ea4c9a8",
   "metadata": {},
   "outputs": [],
   "source": []
  }
 ],
 "metadata": {
  "kernelspec": {
   "display_name": "Python 3",
   "language": "python",
   "name": "python3"
  },
  "language_info": {
   "codemirror_mode": {
    "name": "ipython",
    "version": 3
   },
   "file_extension": ".py",
   "mimetype": "text/x-python",
   "name": "python",
   "nbconvert_exporter": "python",
   "pygments_lexer": "ipython3",
   "version": "3.8.8"
  }
 },
 "nbformat": 4,
 "nbformat_minor": 5
}
